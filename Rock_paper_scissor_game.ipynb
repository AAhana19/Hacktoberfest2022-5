{
 "cells": [
  {
   "cell_type": "code",
   "execution_count": null,
   "id": "e91343a7",
   "metadata": {},
   "outputs": [
    {
     "name": "stdout",
     "output_type": "stream",
     "text": [
      "Type Rock/Paper/Scissor or Q to quit: rock\n",
      "Computer picked rock.\n",
      "You lost!\n"
     ]
    }
   ],
   "source": [
    "import random\n",
    "\n",
    "user_wins = 0\n",
    "computer_wins = 0\n",
    "\n",
    "options = [\"rock\", \"paper\", \"scissor\"]\n",
    "\n",
    "while True:\n",
    "    user_input = input(\"Type Rock/Paper/Scissor or Q to quit: \").lower()\n",
    "    if user_input == \"q\":\n",
    "        break\n",
    "\n",
    "    if user_input not in options:\n",
    "        continue\n",
    "\n",
    "    random_number = random.randint(0, 2)\n",
    "    # rock: 0, paper: 1, scissor: 2\n",
    "    computer_pick = options[random_number]\n",
    "    print(\"Computer picked\", computer_pick + \".\")\n",
    "\n",
    "    if user_input == \"rock\" and computer_pick == \"scissor\":\n",
    "        print(\"You won!\")\n",
    "        user_wins += 1\n",
    "\n",
    "    elif user_input == \"paper\" and computer_pick == \"rock\":\n",
    "        print(\"You won!\")\n",
    "        user_wins += 1\n",
    "\n",
    "    elif user_input == \"scissor\" and computer_pick == \"paper\":\n",
    "        print(\"You won!\")\n",
    "        user_wins += 1\n",
    "\n",
    "    else:\n",
    "        print(\"You lost!\")\n",
    "        computer_wins += 1\n",
    "\n",
    "print(\"You won\", user_wins, \"times.\")\n",
    "print(\"The computer won\", computer_wins, \"times.\")\n",
    "print(\"The END...Goodbye!\")"
   ]
  },
  {
   "cell_type": "code",
   "execution_count": null,
   "id": "367f0c70",
   "metadata": {},
   "outputs": [],
   "source": []
  },
  {
   "cell_type": "code",
   "execution_count": null,
   "id": "cc54ca24",
   "metadata": {},
   "outputs": [],
   "source": []
  }
 ],
 "metadata": {
  "kernelspec": {
   "display_name": "Python 3 (ipykernel)",
   "language": "python",
   "name": "python3"
  },
  "language_info": {
   "codemirror_mode": {
    "name": "ipython",
    "version": 3
   },
   "file_extension": ".py",
   "mimetype": "text/x-python",
   "name": "python",
   "nbconvert_exporter": "python",
   "pygments_lexer": "ipython3",
   "version": "3.9.12"
  }
 },
 "nbformat": 4,
 "nbformat_minor": 5
}
